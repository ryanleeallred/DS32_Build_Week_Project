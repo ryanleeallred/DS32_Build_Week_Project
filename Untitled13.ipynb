{
  "nbformat": 4,
  "nbformat_minor": 0,
  "metadata": {
    "colab": {
      "name": "Untitled13.ipynb",
      "provenance": []
    },
    "kernelspec": {
      "name": "python3",
      "display_name": "Python 3"
    },
    "language_info": {
      "name": "python"
    }
  },
  "cells": [
    {
      "cell_type": "markdown",
      "metadata": {
        "id": "H4mTW0pAQaVj"
      },
      "source": [
        "Nice Markdown Explanation-ey stuff."
      ]
    },
    {
      "cell_type": "code",
      "metadata": {
        "id": "o5ElZ4SOQZ16",
        "outputId": "56ce30ac-062f-4485-ca1e-e83dba509073",
        "colab": {
          "base_uri": "https://localhost:8080/"
        }
      },
      "source": [
        "2+2"
      ],
      "execution_count": 1,
      "outputs": [
        {
          "output_type": "execute_result",
          "data": {
            "text/plain": [
              "4"
            ]
          },
          "metadata": {},
          "execution_count": 1
        }
      ]
    },
    {
      "cell_type": "code",
      "metadata": {
        "id": "djFHJMoJQdXx"
      },
      "source": [
        ""
      ],
      "execution_count": null,
      "outputs": []
    }
  ]
}